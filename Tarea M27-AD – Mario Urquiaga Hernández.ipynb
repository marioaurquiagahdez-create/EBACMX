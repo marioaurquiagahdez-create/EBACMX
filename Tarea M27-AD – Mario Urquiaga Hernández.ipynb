{
 "cells": [
  {
   "cell_type": "code",
   "execution_count": 6,
   "id": "fde88d3c-088e-4233-ada8-1b47776d5ed4",
   "metadata": {},
   "outputs": [
    {
     "ename": "FileNotFoundError",
     "evalue": "[Errno 2] No such file or directory: 'test.txt'",
     "output_type": "error",
     "traceback": [
      "\u001b[1;31m---------------------------------------------------------------------------\u001b[0m",
      "\u001b[1;31mFileNotFoundError\u001b[0m                         Traceback (most recent call last)",
      "Cell \u001b[1;32mIn[6], line 2\u001b[0m\n\u001b[0;32m      1\u001b[0m \u001b[38;5;66;03m# Generando las excepciones y mensajes de error correspondientes. \u001b[39;00m\n\u001b[1;32m----> 2\u001b[0m archivo \u001b[38;5;241m=\u001b[39m \u001b[38;5;28mopen\u001b[39m(\u001b[38;5;124m'\u001b[39m\u001b[38;5;124mtest.txt\u001b[39m\u001b[38;5;124m'\u001b[39m, \u001b[38;5;124m'\u001b[39m\u001b[38;5;124mr\u001b[39m\u001b[38;5;124m'\u001b[39m)\n\u001b[0;32m      3\u001b[0m contenido \u001b[38;5;241m=\u001b[39m archivo\u001b[38;5;241m.\u001b[39mread()\n\u001b[0;32m      4\u001b[0m \u001b[38;5;28mprint\u001b[39m(contenido)\n",
      "File \u001b[1;32m~\\anaconda3\\Lib\\site-packages\\IPython\\core\\interactiveshell.py:324\u001b[0m, in \u001b[0;36m_modified_open\u001b[1;34m(file, *args, **kwargs)\u001b[0m\n\u001b[0;32m    317\u001b[0m \u001b[38;5;28;01mif\u001b[39;00m file \u001b[38;5;129;01min\u001b[39;00m {\u001b[38;5;241m0\u001b[39m, \u001b[38;5;241m1\u001b[39m, \u001b[38;5;241m2\u001b[39m}:\n\u001b[0;32m    318\u001b[0m     \u001b[38;5;28;01mraise\u001b[39;00m \u001b[38;5;167;01mValueError\u001b[39;00m(\n\u001b[0;32m    319\u001b[0m         \u001b[38;5;124mf\u001b[39m\u001b[38;5;124m\"\u001b[39m\u001b[38;5;124mIPython won\u001b[39m\u001b[38;5;124m'\u001b[39m\u001b[38;5;124mt let you open fd=\u001b[39m\u001b[38;5;132;01m{\u001b[39;00mfile\u001b[38;5;132;01m}\u001b[39;00m\u001b[38;5;124m by default \u001b[39m\u001b[38;5;124m\"\u001b[39m\n\u001b[0;32m    320\u001b[0m         \u001b[38;5;124m\"\u001b[39m\u001b[38;5;124mas it is likely to crash IPython. If you know what you are doing, \u001b[39m\u001b[38;5;124m\"\u001b[39m\n\u001b[0;32m    321\u001b[0m         \u001b[38;5;124m\"\u001b[39m\u001b[38;5;124myou can use builtins\u001b[39m\u001b[38;5;124m'\u001b[39m\u001b[38;5;124m open.\u001b[39m\u001b[38;5;124m\"\u001b[39m\n\u001b[0;32m    322\u001b[0m     )\n\u001b[1;32m--> 324\u001b[0m \u001b[38;5;28;01mreturn\u001b[39;00m io_open(file, \u001b[38;5;241m*\u001b[39margs, \u001b[38;5;241m*\u001b[39m\u001b[38;5;241m*\u001b[39mkwargs)\n",
      "\u001b[1;31mFileNotFoundError\u001b[0m: [Errno 2] No such file or directory: 'test.txt'"
     ]
    }
   ],
   "source": [
    "# Generando las excepciones y mensajes de error correspondientes. \n",
    "archivo = open('test.txt', 'r')\n",
    "contenido = archivo.read()\n",
    "print(contenido)\n",
    "archivo.close()"
   ]
  },
  {
   "cell_type": "code",
   "execution_count": 7,
   "id": "7e5f017f-fd45-4596-aaae-61af3a76a4d0",
   "metadata": {},
   "outputs": [
    {
     "name": "stdout",
     "output_type": "stream",
     "text": [
      "Error: El archivo test.txt no existe\n"
     ]
    }
   ],
   "source": [
    "#Excepciones y las funciones TRY/EXCEPT\n",
    "try:\n",
    "    archivo = open('test.txt', 'r')\n",
    "    contenido = archivo.read()\n",
    "    print(contenido)\n",
    "    archivo.close()\n",
    "except FileNotFoundError:\n",
    "    print('Error: El archivo test.txt no existe')"
   ]
  },
  {
   "cell_type": "code",
   "execution_count": 9,
   "id": "5ef82086-6893-490c-8ffc-8572b2c693c2",
   "metadata": {},
   "outputs": [
    {
     "name": "stdout",
     "output_type": "stream",
     "text": [
      "Intentando abrir test.txt...\n",
      "Error: Archivo no encontrado\n",
      "No había archivo abierto\n"
     ]
    }
   ],
   "source": [
    "# Ejemplos con TRY/EXCEPT/ELSE/FINALLY \n",
    "try:\n",
    "    print('Intentando abrir test.txt...')\n",
    "    archivo = open('test.txt', 'r')\n",
    "    contenido = archivo.read()\n",
    "except FileNotFoundError:\n",
    "    print('Error: Archivo no encontrado')\n",
    "except PermissionError:\n",
    "    print('Error: Sin permisos')\n",
    "else:\n",
    "    print('Lectura exitosa')\n",
    "    print(contenido)\n",
    "finally:\n",
    "    try:\n",
    "        archivo.close()\n",
    "        print('Archivo cerrado')\n",
    "    except:\n",
    "        print('No había archivo abierto')"
   ]
  },
  {
   "cell_type": "code",
   "execution_count": 12,
   "id": "3533a58d-94f2-4cef-86f5-ac20af5edd84",
   "metadata": {},
   "outputs": [
    {
     "name": "stdout",
     "output_type": "stream",
     "text": [
      "Paso 1: 5 10 15 20\n",
      "Paso 2: suma = 50\n",
      "Paso 3: divisor = 0\n",
      "No se puede dividir por cero\n",
      "Paso 4: resultado = 12.5\n"
     ]
    }
   ],
   "source": [
    "# Debugging: suma y división entre cero.\n",
    "# Paso 1: definir números\n",
    "a, b, c, d = 5, 10, 15, 20\n",
    "print('Paso 1:', a, b, c, d)\n",
    "\n",
    "# Paso 2: suma\n",
    "suma = a + b + c + d\n",
    "print('Paso 2: suma =', suma)\n",
    "\n",
    "# Paso 3: intento con divisor = 0 (error esperado)\n",
    "divisor = 0\n",
    "print(f'Paso 3: divisor = {divisor}')\n",
    "print('No se puede dividir por cero')\n",
    "\n",
    "# Paso 4: corrección\n",
    "divisor = 4\n",
    "resultado = suma / divisor\n",
    "print(f'Paso 4: resultado = {resultado}')"
   ]
  },
  {
   "cell_type": "code",
   "execution_count": null,
   "id": "b14c1228-d517-4640-be0c-84cb9fd5ac79",
   "metadata": {},
   "outputs": [],
   "source": []
  }
 ],
 "metadata": {
  "kernelspec": {
   "display_name": "Python [conda env:base] *",
   "language": "python",
   "name": "conda-base-py"
  },
  "language_info": {
   "codemirror_mode": {
    "name": "ipython",
    "version": 3
   },
   "file_extension": ".py",
   "mimetype": "text/x-python",
   "name": "python",
   "nbconvert_exporter": "python",
   "pygments_lexer": "ipython3",
   "version": "3.12.7"
  }
 },
 "nbformat": 4,
 "nbformat_minor": 5
}
