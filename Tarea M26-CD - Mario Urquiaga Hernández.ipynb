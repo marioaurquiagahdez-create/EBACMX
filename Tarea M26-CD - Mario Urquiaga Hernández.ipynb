{
 "cells": [
  {
   "cell_type": "code",
   "execution_count": 1,
   "id": "a0e2e2f1-3729-47e1-b089-4c16871ffdf3",
   "metadata": {},
   "outputs": [
    {
     "name": "stdout",
     "output_type": "stream",
     "text": [
      "Archivo cargado\n"
     ]
    }
   ],
   "source": [
    "#Lectura del archivo CSV\n",
    "import pandas as pd\n",
    "df = pd.read_csv('Height of Male and Female by Country 2022.csv')\n",
    "print('Archivo cargado')"
   ]
  },
  {
   "cell_type": "code",
   "execution_count": 2,
   "id": "ebbbb532-243a-4704-8181-ca4ee19aeb7c",
   "metadata": {},
   "outputs": [
    {
     "name": "stdout",
     "output_type": "stream",
     "text": [
      "    Rank                      Country Name  Male Height in Cm  \\\n",
      "0      1                       Netherlands             183.78   \n",
      "1      2                        Montenegro             183.30   \n",
      "2      3                           Estonia             182.79   \n",
      "3      4            Bosnia and Herzegovina             182.47   \n",
      "4      5                           Iceland             182.10   \n",
      "5      6                           Denmark             181.89   \n",
      "6      7                    Czech Republic             181.19   \n",
      "7      8                            Latvia             181.17   \n",
      "8      9                          Slovakia             181.02   \n",
      "9     10                          Slovenia             180.98   \n",
      "10    11                           Ukraine             180.98   \n",
      "11    12                           Croatia             180.76   \n",
      "12    13                            Serbia             180.74   \n",
      "13    14                         Lithuania             180.72   \n",
      "14    15                            Poland             180.69   \n",
      "15    16                           Finland             180.57   \n",
      "16    17                            Norway             180.48   \n",
      "17    18                            Sweden             180.46   \n",
      "18    19                           Germany             180.28   \n",
      "19    20                          Dominica             180.15   \n",
      "20    21                           Bermuda             179.72   \n",
      "21    22                       Puerto Rico             179.48   \n",
      "22    23                            Greece             179.26   \n",
      "23    24                           Belgium             179.09   \n",
      "24    25                           Ireland             179.04   \n",
      "25    26                           Lebanon             178.96   \n",
      "26    27                           Andorra             178.84   \n",
      "27    28               Antigua and Barbuda             178.84   \n",
      "28    29                         Australia             178.77   \n",
      "29    30                            Canada             178.75   \n",
      "30    31                       Switzerland             178.73   \n",
      "31    32                           Grenada             178.70   \n",
      "32    33                           Belarus             178.69   \n",
      "33    34                            France             178.60   \n",
      "34    35                           Austria             178.52   \n",
      "35    36                        Luxembourg             178.46   \n",
      "36    37                      Cook Islands             178.32   \n",
      "37    38                  French Polynesia             178.32   \n",
      "38    39                    United Kingdom             178.21   \n",
      "39    40                           Romania             177.82   \n",
      "40    41                       New Zealand             177.72   \n",
      "41    42  Saint Vincent and the Grenadines             177.49   \n",
      "42    43                              Niue             177.19   \n",
      "43    44                    American Samoa             177.09   \n",
      "44    45                          Barbados             177.03   \n",
      "45    46                           Jamaica             176.97   \n",
      "46    47                     United States             176.94   \n",
      "47    48                           Tunisia             176.85   \n",
      "48    49                            Russia             176.65   \n",
      "49    50                           Hungary             176.59   \n",
      "\n",
      "    Female Height in Cm  Male Height in Ft  Female Height in Ft  \n",
      "0                170.36               6.03                 5.59  \n",
      "1                169.96               6.01                 5.58  \n",
      "2                168.66               6.00                 5.53  \n",
      "3                167.47               5.99                 5.49  \n",
      "4                168.91               5.97                 5.54  \n",
      "5                169.47               5.97                 5.56  \n",
      "6                167.96               5.94                 5.51  \n",
      "7                168.81               5.94                 5.54  \n",
      "8                167.12               5.94                 5.48  \n",
      "9                167.20               5.94                 5.49  \n",
      "10               166.62               5.94                 5.47  \n",
      "11               166.80               5.93                 5.47  \n",
      "12               168.29               5.93                 5.52  \n",
      "13               167.63               5.93                 5.50  \n",
      "14               165.78               5.93                 5.44  \n",
      "15               166.48               5.92                 5.46  \n",
      "16               166.45               5.92                 5.46  \n",
      "17               166.67               5.92                 5.47  \n",
      "18               166.18               5.91                 5.45  \n",
      "19               166.89               5.91                 5.48  \n",
      "20               166.11               5.90                 5.45  \n",
      "21               163.06               5.89                 5.35  \n",
      "22               165.81               5.88                 5.44  \n",
      "23               163.40               5.88                 5.36  \n",
      "24               164.50               5.87                 5.40  \n",
      "25               163.67               5.87                 5.37  \n",
      "26               165.53               5.87                 5.43  \n",
      "27               165.72               5.87                 5.44  \n",
      "28               164.67               5.87                 5.40  \n",
      "29               164.73               5.86                 5.40  \n",
      "30               164.33               5.86                 5.39  \n",
      "31               165.99               5.86                 5.45  \n",
      "32               166.93               5.86                 5.48  \n",
      "33               164.49               5.86                 5.40  \n",
      "34               166.93               5.86                 5.48  \n",
      "35               165.07               5.86                 5.42  \n",
      "36               167.31               5.85                 5.49  \n",
      "37               166.52               5.85                 5.46  \n",
      "38               163.94               5.85                 5.38  \n",
      "39               164.73               5.83                 5.40  \n",
      "40               164.66               5.83                 5.40  \n",
      "41               165.30               5.82                 5.42  \n",
      "42               167.03               5.81                 5.48  \n",
      "43               167.55               5.81                 5.50  \n",
      "44               165.66               5.81                 5.44  \n",
      "45               164.32               5.81                 5.39  \n",
      "46               163.31               5.81                 5.36  \n",
      "47               161.69               5.80                 5.30  \n",
      "48               164.52               5.80                 5.40  \n",
      "49               162.55               5.79                 5.33  \n"
     ]
    }
   ],
   "source": [
    "#Imprimiendo las primeras 50 lineas\n",
    "print(df.head(50))"
   ]
  },
  {
   "cell_type": "code",
   "execution_count": 4,
   "id": "dd1f849b-cecf-4464-9107-845c8cf53b31",
   "metadata": {},
   "outputs": [
    {
     "name": "stdout",
     "output_type": "stream",
     "text": [
      "HOMBRES:\n",
      "Media: 173.09\n",
      "Min: 160.13\n",
      "Max: 183.78\n",
      "MUJERES:\n",
      "Media: 160.94\n",
      "Min: 150.91\n",
      "Max: 170.36\n"
     ]
    }
   ],
   "source": [
    "# Calculando la media, mínima y máxima altura de hombres y mujeres del data set completo \n",
    "import numpy as np\n",
    "import statistics\n",
    "\n",
    "print('HOMBRES:')\n",
    "print(f'Media: {np.mean(df[\"Male Height in Cm\"]):.2f}')\n",
    "print(f'Min: {np.min(df[\"Male Height in Cm\"]):.2f}')\n",
    "print(f'Max: {np.max(df[\"Male Height in Cm\"]):.2f}')\n",
    "\n",
    "print('MUJERES:')\n",
    "print(f'Media: {statistics.mean(df[\"Female Height in Cm\"]):.2f}')\n",
    "print(f'Min: {min(df[\"Female Height in Cm\"]):.2f}')\n",
    "print(f'Max: {max(df[\"Female Height in Cm\"]):.2f}')"
   ]
  },
  {
   "cell_type": "code",
   "execution_count": 5,
   "id": "ac181b4c-81f2-4313-980a-57325c4a1040",
   "metadata": {},
   "outputs": [
    {
     "name": "stdout",
     "output_type": "stream",
     "text": [
      "     Rank Country Name  Male Height in Cm  Female Height in Cm  \\\n",
      "138   139       Mexico             170.29                157.9   \n",
      "\n",
      "     Male Height in Ft  Female Height in Ft  \n",
      "138               5.59                 5.18  \n"
     ]
    }
   ],
   "source": [
    "#Obteniendo la data de mi país de origen (México)\n",
    "pais = 'Mexico'\n",
    "datos = df[df['Country Name'] == pais]\n",
    "print(datos)"
   ]
  },
  {
   "cell_type": "code",
   "execution_count": null,
   "id": "8ebdc1ef-fc7d-4586-84c2-3e7c87fcebeb",
   "metadata": {},
   "outputs": [],
   "source": []
  }
 ],
 "metadata": {
  "kernelspec": {
   "display_name": "Python [conda env:base] *",
   "language": "python",
   "name": "conda-base-py"
  },
  "language_info": {
   "codemirror_mode": {
    "name": "ipython",
    "version": 3
   },
   "file_extension": ".py",
   "mimetype": "text/x-python",
   "name": "python",
   "nbconvert_exporter": "python",
   "pygments_lexer": "ipython3",
   "version": "3.12.7"
  }
 },
 "nbformat": 4,
 "nbformat_minor": 5
}
