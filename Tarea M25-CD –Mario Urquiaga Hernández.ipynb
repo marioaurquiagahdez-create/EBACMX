{
 "cells": [
  {
   "cell_type": "code",
   "execution_count": 1,
   "id": "32e16aee-49ba-4663-a9d4-bd0452850f36",
   "metadata": {},
   "outputs": [
    {
     "name": "stdout",
     "output_type": "stream",
     "text": [
      "5.0\n"
     ]
    }
   ],
   "source": [
    "# Raiz cuadrada de un número (sin lambda)\n",
    "import math\n",
    "def raiz_cuadrada(n):\n",
    "    return math.sqrt(n)\n",
    "print(raiz_cuadrada(25))"
   ]
  },
  {
   "cell_type": "code",
   "execution_count": 2,
   "id": "c5cdbbe9-c968-4d8d-b974-7d9c5b197c40",
   "metadata": {},
   "outputs": [
    {
     "name": "stdout",
     "output_type": "stream",
     "text": [
      "5.0\n"
     ]
    }
   ],
   "source": [
    "# Raiz cuadrada de un numero (usando lambda)\n",
    "import math\n",
    "raiz = lambda n: math.sqrt(n)\n",
    "print(raiz(25))"
   ]
  },
  {
   "cell_type": "code",
   "execution_count": 3,
   "id": "b380df04-afc6-46f7-81a8-8ed0c225f381",
   "metadata": {},
   "outputs": [
    {
     "name": "stdout",
     "output_type": "stream",
     "text": [
      "[8, 6, 2, 9]\n"
     ]
    }
   ],
   "source": [
    "# Obtención de longitud de palabras (sin map)\n",
    "frase = \"Aprender Python es divertido\"\n",
    "palabras = frase.split()\n",
    "largos = []\n",
    "for p in palabras:\n",
    "    largos.append(len(p))\n",
    "print(largos)"
   ]
  },
  {
   "cell_type": "code",
   "execution_count": 4,
   "id": "88b8ca25-3e27-42d8-b998-252a810537be",
   "metadata": {},
   "outputs": [
    {
     "name": "stdout",
     "output_type": "stream",
     "text": [
      "[8, 6, 2, 9]\n"
     ]
    }
   ],
   "source": [
    "# Obtención de longitud de palabras (usando map)\n",
    "frase = \"Aprender Python es divertido\"\n",
    "palabras = frase.split()\n",
    "largos = list(map(len, palabras))\n",
    "print(largos)"
   ]
  },
  {
   "cell_type": "code",
   "execution_count": 5,
   "id": "d081161b-dc36-417b-84b2-55ee9a75aa88",
   "metadata": {},
   "outputs": [
    {
     "name": "stdout",
     "output_type": "stream",
     "text": [
      "24\n"
     ]
    }
   ],
   "source": [
    "# Calculando el producto de una lista (sin reduce)\n",
    "numeros = [2, 3, 4]\n",
    "producto = 1\n",
    "for n in numeros:\n",
    "    producto *= n\n",
    "print(producto)"
   ]
  },
  {
   "cell_type": "code",
   "execution_count": 6,
   "id": "0c5a6396-e590-4825-be5a-b5e6f536dae0",
   "metadata": {},
   "outputs": [
    {
     "name": "stdout",
     "output_type": "stream",
     "text": [
      "24\n"
     ]
    }
   ],
   "source": [
    "# Calculando el producto de una lista (usando reduce)\n",
    "from functools import reduce\n",
    "numeros = [2, 3, 4]\n",
    "producto = reduce(lambda x, y: x * y, numeros)\n",
    "print(producto)"
   ]
  },
  {
   "cell_type": "code",
   "execution_count": 7,
   "id": "f102adce-068d-4909-ab88-8ed14229ebc4",
   "metadata": {},
   "outputs": [
    {
     "name": "stdout",
     "output_type": "stream",
     "text": [
      "['Java', 'html5', 'CSS']\n"
     ]
    }
   ],
   "source": [
    "# Encontrando palabras que contengan mayúsculas o números en una lista (sin filter)\n",
    "palabras = [\"python\", \"Java\", \"html5\", \"CSS\"]\n",
    "resultado = []\n",
    "for p in palabras:\n",
    "    for c in p:\n",
    "        if c.isupper() or c.isdigit():\n",
    "            resultado.append(p)\n",
    "            break\n",
    "print(resultado)"
   ]
  },
  {
   "cell_type": "code",
   "execution_count": 8,
   "id": "98903655-9480-4ba2-b3aa-f256db4eb001",
   "metadata": {},
   "outputs": [
    {
     "name": "stdout",
     "output_type": "stream",
     "text": [
      "['Java', 'html5', 'CSS']\n"
     ]
    }
   ],
   "source": [
    "# Encontrando palabras que contengan mayúsculas o números en una lista (usando filter)\n",
    "palabras = [\"python\", \"Java\", \"html5\", \"CSS\"]\n",
    "resultado = list(filter(lambda p: any(c.isupper() or c.isdigit() for c in p), palabras))\n",
    "print(resultado)"
   ]
  },
  {
   "cell_type": "code",
   "execution_count": null,
   "id": "53bbef2f-f98a-4446-a429-ff4f5b79ee13",
   "metadata": {},
   "outputs": [],
   "source": []
  }
 ],
 "metadata": {
  "kernelspec": {
   "display_name": "Python [conda env:base] *",
   "language": "python",
   "name": "conda-base-py"
  },
  "language_info": {
   "codemirror_mode": {
    "name": "ipython",
    "version": 3
   },
   "file_extension": ".py",
   "mimetype": "text/x-python",
   "name": "python",
   "nbconvert_exporter": "python",
   "pygments_lexer": "ipython3",
   "version": "3.12.7"
  }
 },
 "nbformat": 4,
 "nbformat_minor": 5
}
